{
 "cells": [
  {
   "cell_type": "markdown",
   "metadata": {},
   "source": [
    "## Créer et appeler une classe"
   ]
  },
  {
   "cell_type": "markdown",
   "metadata": {},
   "source": [
    "Template pour déclarer une classe"
   ]
  },
  {
   "cell_type": "code",
   "execution_count": 1,
   "metadata": {},
   "outputs": [],
   "source": [
    "# supposons une classe mère d'un grand interet\n",
    "\n",
    "class Mother_classe:\n",
    "    pass\n",
    "\n",
    "\n",
    "# Modèle de déclaration d'un classe\n",
    "class Ma_classe(Mother_classe):  # On définit de quelles classes notre nouvelle classe va hériter les att et méth\n",
    "    \n",
    "    def __init__(self,param_decla_1,param_decla_2):\n",
    "        Mother_classe.__init__(self) #On récupère les attributs de la première classe.\n",
    "        self.attribut_1 = \"monpremier attribut\" # On déclare les attributs dans le constructeurs\n",
    "        self.attribut_2 = param_decla_1+ param_decla_2 # On peut utiliser des paramètres définis lors de l'appel\n",
    "    \n",
    "    def method_1(self): #définit également les méthodes\n",
    "        return self.attribut_2*2\n",
    "              "
   ]
  },
  {
   "cell_type": "markdown",
   "metadata": {},
   "source": [
    "Template pour appeler une class (créer une instance d'un class)"
   ]
  },
  {
   "cell_type": "code",
   "execution_count": 2,
   "metadata": {},
   "outputs": [
    {
     "name": "stdout",
     "output_type": "stream",
     "text": [
      "<__main__.Ma_classe object at 0x7fa608285a30>\n",
      "monpremier attribut\n",
      "2\n",
      "4\n"
     ]
    }
   ],
   "source": [
    "# Modèle d'appel d'une classe\n",
    "              \n",
    "ma_premiere_instance= Ma_classe(param_decla_1=1,param_decla_2=1)\n",
    "\n",
    "print(ma_premiere_instance)              \n",
    "\n",
    "print(ma_premiere_instance.attribut_1)\n",
    "print(ma_premiere_instance.attribut_2)\n",
    "\n",
    "print(ma_premiere_instance.method_1())\n"
   ]
  },
  {
   "cell_type": "markdown",
   "metadata": {},
   "source": [
    "Quelques fonctions stardards sur les classes"
   ]
  },
  {
   "cell_type": "code",
   "execution_count": 3,
   "metadata": {},
   "outputs": [
    {
     "name": "stdout",
     "output_type": "stream",
     "text": [
      "['__class__', '__delattr__', '__dict__', '__dir__', '__doc__', '__eq__', '__format__', '__ge__', '__getattribute__', '__gt__', '__hash__', '__init__', '__init_subclass__', '__le__', '__lt__', '__module__', '__ne__', '__new__', '__reduce__', '__reduce_ex__', '__repr__', '__setattr__', '__sizeof__', '__str__', '__subclasshook__', '__weakref__', 'attribut_1', 'attribut_2', 'method_1']\n",
      "{'attribut_1': 'monpremier attribut', 'attribut_2': 2}\n",
      "True\n"
     ]
    }
   ],
   "source": [
    "#renvoie les attributs et les méthodes d'une classe ou d'un package\n",
    "print(dir(ma_premiere_instance))\n",
    "\n",
    "# renvoie un dico avec tous les attribues en clef et leur valeur\n",
    "print(ma_premiere_instance.__dict__)\n",
    "\n",
    "# Savoir si une classe est la fille de l'autre\n",
    "print(issubclass(Ma_classe, Mother_classe))\n"
   ]
  },
  {
   "cell_type": "markdown",
   "metadata": {},
   "source": [
    "## Un exemple concret"
   ]
  },
  {
   "cell_type": "markdown",
   "metadata": {},
   "source": [
    "On va s'inspirer du brief journal intime"
   ]
  },
  {
   "cell_type": "code",
   "execution_count": 4,
   "metadata": {},
   "outputs": [
    {
     "name": "stdout",
     "output_type": "stream",
     "text": [
      "{'autor': 'charles', 'content': \"i'm so happy today\", 'date_creation': datetime.date(2021, 7, 21)}\n",
      "<__main__.Text_object object at 0x7fa6082923a0>\n"
     ]
    },
    {
     "name": "stderr",
     "output_type": "stream",
     "text": [
      "/Users/charles/opt/anaconda3/lib/python3.8/site-packages/sklearn/base.py:329: UserWarning: Trying to unpickle estimator TfidfTransformer from version 0.24.2 when using version 0.23.2. This might lead to breaking code or invalid results. Use at your own risk.\n",
      "  warnings.warn(\n",
      "/Users/charles/opt/anaconda3/lib/python3.8/site-packages/sklearn/base.py:329: UserWarning: Trying to unpickle estimator TfidfVectorizer from version 0.24.2 when using version 0.23.2. This might lead to breaking code or invalid results. Use at your own risk.\n",
      "  warnings.warn(\n"
     ]
    },
    {
     "name": "stdout",
     "output_type": "stream",
     "text": [
      "happy\n"
     ]
    },
    {
     "name": "stderr",
     "output_type": "stream",
     "text": [
      "/Users/charles/opt/anaconda3/lib/python3.8/site-packages/sklearn/base.py:329: UserWarning: Trying to unpickle estimator LogisticRegression from version 0.24.2 when using version 0.23.2. This might lead to breaking code or invalid results. Use at your own risk.\n",
      "  warnings.warn(\n"
     ]
    }
   ],
   "source": [
    "import pickle\n",
    "from datetime import date\n",
    "\n",
    "#définition de la classe\n",
    "class Text_object():                       \n",
    "   \n",
    "    def __init__(self,autor,content):\n",
    "        self.autor=autor\n",
    "        self.content=content\n",
    "        self.date_creation=date.today() \n",
    "\n",
    "    @property  #Une propriété sert à définir un attribut complexe (qui necessite la définition d'une fonction)\n",
    "    def feeling(self):\n",
    "        tfidf, model = pickle.load(open('model.bin', 'rb'))\n",
    "        return model.predict(tfidf.transform([self.content]))[0]\n",
    " \n",
    "#création d'une instance.\n",
    "mon_premier_texte=Text_object(\"charles\",\"i'm so happy today\")\n",
    "\n",
    "print(mon_premier_texte.__dict__)\n",
    "print (repr(mon_premier_texte))\n",
    "print(mon_premier_texte.feeling)"
   ]
  },
  {
   "cell_type": "code",
   "execution_count": 5,
   "metadata": {},
   "outputs": [],
   "source": [
    "class User_object():\n",
    "    def __init__(self,name,firstname):\n",
    "        self.name=name\n",
    "        self.firstname=firstname\n",
    "        self.status=\"user\"\n",
    "    \n",
    "    def create_text(self,content):\n",
    "        text_instance = Text_object(self.name,content)\n",
    "        #add_text_in_db(text_instance)\n",
    "        return text_instance"
   ]
  },
  {
   "cell_type": "code",
   "execution_count": 6,
   "metadata": {},
   "outputs": [
    {
     "name": "stdout",
     "output_type": "stream",
     "text": [
      "{'name': 'charles', 'firstname': 'beniac', 'status': 'user'}\n",
      "user\n",
      "sadness\n"
     ]
    }
   ],
   "source": [
    "charles=User_object(\"charles\",\"beniac\")\n",
    "print(charles.__dict__)\n",
    "print(charles.status)\n",
    "\n",
    "charles_text=charles.create_text(\"it was a bad day\")\n",
    "print(charles_text.feeling)"
   ]
  },
  {
   "cell_type": "code",
   "execution_count": 7,
   "metadata": {},
   "outputs": [],
   "source": [
    "class Admin_object(User_object):\n",
    "    \n",
    "    def __init__(self,name,firstname):\n",
    "        User_object.__init__(self,name,firstname)\n",
    "        self.status=\"admin\"\n",
    "    \n",
    "    def create_user(self,user_name,user_firstname):\n",
    "        user_instance = User_object(user_name,user_firstname)\n",
    "        #add_user_in_db(text_instance)\n",
    "        print(\"{} a créé l'utilisateur {}\".format(self.name,user_name))\n",
    "        return user_instance"
   ]
  },
  {
   "cell_type": "code",
   "execution_count": 8,
   "metadata": {},
   "outputs": [
    {
     "name": "stdout",
     "output_type": "stream",
     "text": [
      "Tony\n",
      "admin\n",
      "Tony a créé l'utilisateur Bernard\n"
     ]
    }
   ],
   "source": [
    "tony=Admin_object(\"Tony\",\"Martin\")\n",
    "print(tony.name)\n",
    "print(tony.status)\n",
    "\n",
    "Bernard=tony.create_user(\"Bernard\",\"Flavier\")"
   ]
  },
  {
   "cell_type": "markdown",
   "metadata": {},
   "source": [
    "## L'utilisation des classes par le datascientist"
   ]
  },
  {
   "cell_type": "markdown",
   "metadata": {},
   "source": [
    "En python, on ne fait que manipuler des classes"
   ]
  },
  {
   "cell_type": "code",
   "execution_count": 12,
   "metadata": {},
   "outputs": [
    {
     "name": "stdout",
     "output_type": "stream",
     "text": [
      "<class 'str'>\n",
      "Charles\n",
      "['__add__', '__class__', '__contains__', '__delattr__', '__dir__', '__doc__', '__eq__', '__format__', '__ge__', '__getattribute__', '__getitem__', '__getnewargs__', '__gt__', '__hash__', '__init__', '__init_subclass__', '__iter__', '__le__', '__len__', '__lt__', '__mod__', '__mul__', '__ne__', '__new__', '__reduce__', '__reduce_ex__', '__repr__', '__rmod__', '__rmul__', '__setattr__']\n"
     ]
    }
   ],
   "source": [
    "# Quand je crée une variable texte, je crée en réalité une instance de la classe str\n",
    "charles=\"charles\"\n",
    "print(type(charles))\n",
    "\n",
    "\n",
    "# Ainsi que des méthodes\n",
    "print(charles.capitalize())\n",
    "\n",
    "# Je peux accéder à l'ensemble de ces attributs et méthodes à l'aide de dir\n",
    "print(dir(charles)[0:30])"
   ]
  },
  {
   "cell_type": "markdown",
   "metadata": {},
   "source": [
    "### Parfois l'utilisation des class est plus explicite car on a besoin de la notion d'héritage ou de la notion d'instance"
   ]
  },
  {
   "cell_type": "markdown",
   "metadata": {},
   "source": [
    "ici l'utilisation de class permet de comprendre l'héritage et aussi que l'objet qu'on envoie à l'api est une instance qui suis un modèle défini au sein d'une classe"
   ]
  },
  {
   "cell_type": "code",
   "execution_count": 10,
   "metadata": {},
   "outputs": [
    {
     "ename": "ModuleNotFoundError",
     "evalue": "No module named 'pydantic'",
     "output_type": "error",
     "traceback": [
      "\u001b[0;31m---------------------------------------------------------------------------\u001b[0m",
      "\u001b[0;31mModuleNotFoundError\u001b[0m                       Traceback (most recent call last)",
      "\u001b[0;32m<ipython-input-10-4bb626f0aec9>\u001b[0m in \u001b[0;36m<module>\u001b[0;34m\u001b[0m\n\u001b[0;32m----> 1\u001b[0;31m \u001b[0;32mimport\u001b[0m \u001b[0mpydantic\u001b[0m\u001b[0;34m\u001b[0m\u001b[0;34m\u001b[0m\u001b[0m\n\u001b[0m\u001b[1;32m      2\u001b[0m \u001b[0;34m\u001b[0m\u001b[0m\n\u001b[1;32m      3\u001b[0m \u001b[0;32mclass\u001b[0m \u001b[0mUserBase_json_model\u001b[0m\u001b[0;34m(\u001b[0m\u001b[0mBaseModel\u001b[0m\u001b[0;34m)\u001b[0m\u001b[0;34m:\u001b[0m\u001b[0;34m\u001b[0m\u001b[0;34m\u001b[0m\u001b[0m\n\u001b[1;32m      4\u001b[0m     \u001b[0memail\u001b[0m\u001b[0;34m:\u001b[0m \u001b[0mstr\u001b[0m\u001b[0;34m\u001b[0m\u001b[0;34m\u001b[0m\u001b[0m\n\u001b[1;32m      5\u001b[0m \u001b[0;34m\u001b[0m\u001b[0m\n",
      "\u001b[0;31mModuleNotFoundError\u001b[0m: No module named 'pydantic'"
     ]
    }
   ],
   "source": [
    "import pydantic\n",
    "\n",
    "class UserBase_json_model(BaseModel):\n",
    "    email: str\n",
    "\n",
    "\n",
    "class UserCreate_json_model(UserBase):\n",
    "    password: str\n",
    "        \n",
    "print(dir(UserCreate_json_model))"
   ]
  },
  {
   "cell_type": "markdown",
   "metadata": {},
   "source": [
    "Ici on comprend que chaque ligne de notre database sera une instance d'un modèle défini dans une classe"
   ]
  },
  {
   "cell_type": "code",
   "execution_count": null,
   "metadata": {},
   "outputs": [],
   "source": [
    "import sqlalchemy.ext.declarative as declarative\n",
    "from sqlalchemy import Column, ForeignKey, Integer, String\n",
    "from sqlalchemy.orm import relationship\n",
    "from sqlalchemy.sql.sqltypes import Float, Text, Date\n",
    "from datetime import date\n",
    "\n",
    "Base = declarative.declarative_base()\n",
    "\n",
    "class User_table(Base):\n",
    "\n",
    "    __tablename__ = \"user\"\n",
    "    user_id = Column(Integer, primary_key=True, index=True)\n",
    "    first_name = Column(String, default=\"empty\")\n",
    "    last_name = Column(String, default=\"empty\")\n",
    "    email = Column(String, unique=True)\n",
    "    register_date = Column(Date, default=date.today())\n",
    "    posts = relationship(\"Post\", back_populates=\"owner\")\n",
    "\n",
    "  \n",
    "\n",
    "print(dir(User_table))"
   ]
  }
 ],
 "metadata": {
  "kernelspec": {
   "display_name": "Python 3",
   "language": "python",
   "name": "python3"
  },
  "language_info": {
   "codemirror_mode": {
    "name": "ipython",
    "version": 3
   },
   "file_extension": ".py",
   "mimetype": "text/x-python",
   "name": "python",
   "nbconvert_exporter": "python",
   "pygments_lexer": "ipython3",
   "version": "3.8.5"
  }
 },
 "nbformat": 4,
 "nbformat_minor": 4
}
